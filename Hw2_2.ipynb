{
  "nbformat": 4,
  "nbformat_minor": 0,
  "metadata": {
    "colab": {
      "provenance": [],
      "authorship_tag": "ABX9TyOhHy3M8fRce4fl3x/CiEx6",
      "include_colab_link": true
    },
    "kernelspec": {
      "name": "python3",
      "display_name": "Python 3"
    },
    "language_info": {
      "name": "python"
    }
  },
  "cells": [
    {
      "cell_type": "markdown",
      "metadata": {
        "id": "view-in-github",
        "colab_type": "text"
      },
      "source": [
        "<a href=\"https://colab.research.google.com/github/Gerenzeo/data_science_module_2/blob/main/Hw2_2.ipynb\" target=\"_parent\"><img src=\"https://colab.research.google.com/assets/colab-badge.svg\" alt=\"Open In Colab\"/></a>"
      ]
    },
    {
      "cell_type": "code",
      "source": [
        "import pandas as pd"
      ],
      "metadata": {
        "id": "p7BxwgIUuiWM"
      },
      "execution_count": 2,
      "outputs": []
    },
    {
      "cell_type": "markdown",
      "source": [
        "1. Прочитайте файл 2017_jun_final.csv за допомогою методу read_csv"
      ],
      "metadata": {
        "id": "migb4HPotoAz"
      }
    },
    {
      "cell_type": "code",
      "source": [
        "data = pd.read_csv(\"2017_jun_final.csv\")"
      ],
      "metadata": {
        "id": "kQ_54UWpusSR"
      },
      "execution_count": 5,
      "outputs": []
    },
    {
      "cell_type": "markdown",
      "source": [
        "2. Прочитайте отриману таблицю, використовуючи метод head"
      ],
      "metadata": {
        "id": "vyK3EMB4tr8X"
      }
    },
    {
      "cell_type": "code",
      "source": [
        "print(data.head())"
      ],
      "metadata": {
        "colab": {
          "base_uri": "https://localhost:8080/"
        },
        "id": "VcvZKV662-VL",
        "outputId": "85612368-e702-47ca-fa95-e5d2a53a372e"
      },
      "execution_count": 6,
      "outputs": [
        {
          "output_type": "stream",
          "name": "stdout",
          "text": [
            "   N                 Должность Язык.программирования Специализация  \\\n",
            "0  1        Junior QA engineer                   NaN     Manual QA   \n",
            "1  2        Junior QA engineer                   NaN     Manual QA   \n",
            "2  3         Software Engineer               C#/.NET           NaN   \n",
            "3  4         Software Engineer            JavaScript           NaN   \n",
            "4  5  Senior Software Engineer            JavaScript           NaN   \n",
            "\n",
            "  Общий.опыт.работы Опыт.работы.на.текущем.месте  Зарплата.в.месяц  \\\n",
            "0               0.5                          0.5               400   \n",
            "1  меньше 3 месяцев             меньше 3 месяцев               430   \n",
            "2                 4                            1              2500   \n",
            "3                 5                            4              2000   \n",
            "4    10 и более лет                          0.5              4500   \n",
            "\n",
            "   Изменение.зарплаты.за.12.месяцев    Город     Размер.компании  ...  \\\n",
            "0                                 0  Харьков       до 10 человек  ...   \n",
            "1                               130  Харьков  свыше 1000 человек  ...   \n",
            "2                               800     Киев     до 1000 человек  ...   \n",
            "3                               400   Одесса      до 200 человек  ...   \n",
            "4                               500   Другой       до 10 человек  ...   \n",
            "\n",
            "  Еще.студент Уровень.английского                    Предметная.область  \\\n",
            "0        True       ниже среднего                         iOS,eCommerce   \n",
            "1        True       выше среднего                        Веб-разработка   \n",
            "2       False             средний  Веб-разработка,Корпоративные системы   \n",
            "3       False       ниже среднего   Desktop Applications,Веб-разработка   \n",
            "4       False             средний   Desktop Applications,Веб-разработка   \n",
            "\n",
            "       Дата.заполнения                                         User.Agent  \\\n",
            "0  12/06/2017 12:38:08  Mozilla/5.0 (Windows NT 10.0; Win64; x64) Appl...   \n",
            "1  12/06/2017 12:42:51  Mozilla/5.0 (iPad; CPU OS 10_2_1 like Mac OS X...   \n",
            "2  12/06/2017 13:02:47  Mozilla/5.0 (Windows NT 10.0; Win64; x64) Appl...   \n",
            "3  12/06/2017 13:03:01  Mozilla/5.0 (Windows NT 6.1; Win64; x64) Apple...   \n",
            "4  12/06/2017 13:03:47  Mozilla/5.0 (iPhone; CPU iPhone OS 10_3_2 like...   \n",
            "\n",
            "    exp current_job_exp salary Валюта  cls  \n",
            "0   0.5             0.5    400    NaN   QA  \n",
            "1   0.0             0.0    430    NaN   QA  \n",
            "2   4.0             1.0   2500    NaN  DEV  \n",
            "3   5.0             4.0   2000    NaN  DEV  \n",
            "4  10.0             0.5   4500    NaN  DEV  \n",
            "\n",
            "[5 rows x 25 columns]\n"
          ]
        }
      ]
    },
    {
      "cell_type": "markdown",
      "source": [
        "3. Визначте розмір таблиці за допомогою методу shape"
      ],
      "metadata": {
        "id": "l38KD7xFtt9S"
      }
    },
    {
      "cell_type": "code",
      "source": [
        "data.shape"
      ],
      "metadata": {
        "colab": {
          "base_uri": "https://localhost:8080/"
        },
        "id": "wT4WhdXC3DR_",
        "outputId": "0bbdd5c9-b6c9-4e63-f6df-187eb67a14c6"
      },
      "execution_count": 8,
      "outputs": [
        {
          "output_type": "execute_result",
          "data": {
            "text/plain": [
              "(8704, 25)"
            ]
          },
          "metadata": {},
          "execution_count": 8
        }
      ]
    },
    {
      "cell_type": "markdown",
      "source": [
        "4. Визначте типи всіх стовпців за допомогою dataframe.dtypes"
      ],
      "metadata": {
        "id": "sQg0s2kAtxCD"
      }
    },
    {
      "cell_type": "code",
      "source": [
        "data.dtypes"
      ],
      "metadata": {
        "colab": {
          "base_uri": "https://localhost:8080/"
        },
        "id": "IJUrMrsV3I1x",
        "outputId": "86c66d40-ad6d-4a06-a0b2-7a5bf3d27828"
      },
      "execution_count": 9,
      "outputs": [
        {
          "output_type": "execute_result",
          "data": {
            "text/plain": [
              "N                                     int64\n",
              "Должность                            object\n",
              "Язык.программирования                object\n",
              "Специализация                        object\n",
              "Общий.опыт.работы                    object\n",
              "Опыт.работы.на.текущем.месте         object\n",
              "Зарплата.в.месяц                      int64\n",
              "Изменение.зарплаты.за.12.месяцев      int64\n",
              "Город                                object\n",
              "Размер.компании                      object\n",
              "Тип.компании                         object\n",
              "Пол                                  object\n",
              "Возраст                               int64\n",
              "Образование                          object\n",
              "Университет                          object\n",
              "Еще.студент                            bool\n",
              "Уровень.английского                  object\n",
              "Предметная.область                   object\n",
              "Дата.заполнения                      object\n",
              "User.Agent                           object\n",
              "exp                                 float64\n",
              "current_job_exp                     float64\n",
              "salary                                int64\n",
              "Валюта                               object\n",
              "cls                                  object\n",
              "dtype: object"
            ]
          },
          "metadata": {},
          "execution_count": 9
        }
      ]
    },
    {
      "cell_type": "markdown",
      "source": [
        "5. Порахуйте, яка частка пропусків міститься в кожній колонці (використовуйте методи isnull та sum)"
      ],
      "metadata": {
        "id": "pcngLsxitzdx"
      }
    },
    {
      "cell_type": "code",
      "source": [
        "print(data.isnull().sum() / len(data) * 100)"
      ],
      "metadata": {
        "colab": {
          "base_uri": "https://localhost:8080/"
        },
        "id": "1lwMVelZ3l8k",
        "outputId": "01f1cb1d-5b79-46c6-fa49-8a5258f2dc19"
      },
      "execution_count": 11,
      "outputs": [
        {
          "output_type": "stream",
          "name": "stdout",
          "text": [
            "N                                    0.000000\n",
            "Должность                            0.000000\n",
            "Язык.программирования               44.232537\n",
            "Специализация                       82.938879\n",
            "Общий.опыт.работы                    0.000000\n",
            "Опыт.работы.на.текущем.месте         0.000000\n",
            "Зарплата.в.месяц                     0.000000\n",
            "Изменение.зарплаты.за.12.месяцев     0.000000\n",
            "Город                                0.000000\n",
            "Размер.компании                      0.000000\n",
            "Тип.компании                         0.000000\n",
            "Пол                                  0.000000\n",
            "Возраст                              0.000000\n",
            "Образование                          0.000000\n",
            "Университет                          4.113051\n",
            "Еще.студент                          0.000000\n",
            "Уровень.английского                  0.000000\n",
            "Предметная.область                   2.562040\n",
            "Дата.заполнения                      0.000000\n",
            "User.Agent                           0.000000\n",
            "exp                                  0.000000\n",
            "current_job_exp                      0.000000\n",
            "salary                               0.000000\n",
            "Валюта                              99.885110\n",
            "cls                                 18.083640\n",
            "dtype: float64\n"
          ]
        }
      ]
    },
    {
      "cell_type": "markdown",
      "source": [
        "6. Видаліть усі стовпці з пропусками, крім стовпця \"Мова програмування\""
      ],
      "metadata": {
        "id": "lFUGIBWht2DX"
      }
    },
    {
      "cell_type": "code",
      "source": [
        "data = data.dropna(subset=[\"Язык.программирования\"])\n",
        "# print(data)"
      ],
      "metadata": {
        "id": "M6CEzgnv7GU6"
      },
      "execution_count": 21,
      "outputs": []
    },
    {
      "cell_type": "markdown",
      "source": [
        "7. Знову порахуйте, яка частка пропусків міститься в кожній колонці і переконайтеся, що залишився тільки стовпець \"Мова.програмування\""
      ],
      "metadata": {
        "id": "LUeCQW32t3k8"
      }
    },
    {
      "cell_type": "code",
      "source": [
        "print(data.isnull().sum() / len(data) * 100)"
      ],
      "metadata": {
        "colab": {
          "base_uri": "https://localhost:8080/"
        },
        "id": "06ITggvM7cKj",
        "outputId": "5ef72774-de0c-4504-da97-3713798eb86f"
      },
      "execution_count": 23,
      "outputs": [
        {
          "output_type": "stream",
          "name": "stdout",
          "text": [
            "N                                    0.000000\n",
            "Должность                            0.000000\n",
            "Язык.программирования                0.000000\n",
            "Специализация                       99.979398\n",
            "Общий.опыт.работы                    0.000000\n",
            "Опыт.работы.на.текущем.месте         0.000000\n",
            "Зарплата.в.месяц                     0.000000\n",
            "Изменение.зарплаты.за.12.месяцев     0.000000\n",
            "Город                                0.000000\n",
            "Размер.компании                      0.000000\n",
            "Тип.компании                         0.000000\n",
            "Пол                                  0.000000\n",
            "Возраст                              0.000000\n",
            "Образование                          0.000000\n",
            "Университет                          4.758962\n",
            "Еще.студент                          0.000000\n",
            "Уровень.английского                  0.000000\n",
            "Предметная.область                   0.618047\n",
            "Дата.заполнения                      0.000000\n",
            "User.Agent                           0.000000\n",
            "exp                                  0.000000\n",
            "current_job_exp                      0.000000\n",
            "salary                               0.000000\n",
            "Валюта                              99.835187\n",
            "cls                                  0.164813\n",
            "dtype: float64\n"
          ]
        }
      ]
    },
    {
      "cell_type": "markdown",
      "source": [
        "8. Видаліть усі рядки у вихідній таблиці за допомогою методу dropna"
      ],
      "metadata": {
        "id": "J54L0P16t4mp"
      }
    },
    {
      "cell_type": "code",
      "source": [
        "data = data.dropna()\n",
        "print(data)"
      ],
      "metadata": {
        "colab": {
          "base_uri": "https://localhost:8080/"
        },
        "id": "XqRf9dSd75dY",
        "outputId": "cd7a600b-628d-4261-a9f4-ab8bb6017c80"
      },
      "execution_count": 25,
      "outputs": [
        {
          "output_type": "stream",
          "name": "stdout",
          "text": [
            "Empty DataFrame\n",
            "Columns: [N, Должность, Язык.программирования, Специализация, Общий.опыт.работы, Опыт.работы.на.текущем.месте, Зарплата.в.месяц, Изменение.зарплаты.за.12.месяцев, Город, Размер.компании, Тип.компании, Пол, Возраст, Образование, Университет, Еще.студент, Уровень.английского, Предметная.область, Дата.заполнения, User.Agent, exp, current_job_exp, salary, Валюта, cls]\n",
            "Index: []\n",
            "\n",
            "[0 rows x 25 columns]\n"
          ]
        }
      ]
    },
    {
      "cell_type": "markdown",
      "source": [
        "9. Визначте новий розмір таблиці за допомогою методу shape"
      ],
      "metadata": {
        "id": "DhA1MYqlt6qU"
      }
    },
    {
      "cell_type": "code",
      "source": [
        "print(data.shape)"
      ],
      "metadata": {
        "colab": {
          "base_uri": "https://localhost:8080/"
        },
        "id": "LV078nqW8Mn3",
        "outputId": "b3a27e42-7fa9-44a1-8ec6-2bb5c223fdee"
      },
      "execution_count": 26,
      "outputs": [
        {
          "output_type": "stream",
          "name": "stdout",
          "text": [
            "(0, 25)\n"
          ]
        }
      ]
    },
    {
      "cell_type": "markdown",
      "source": [
        "10. Створіть нову таблицю python_data, в якій будуть тільки рядки зі спеціалістами, які вказали мову програмування Python"
      ],
      "metadata": {
        "id": "xSSFhezOt8SQ"
      }
    },
    {
      "cell_type": "code",
      "source": [
        "data = pd.read_csv(\"2017_jun_final.csv\")\n",
        "python_data = data[data[\"Язык.программирования\"] == \"Python\"]\n",
        "print(python_data)"
      ],
      "metadata": {
        "colab": {
          "base_uri": "https://localhost:8080/"
        },
        "id": "BTgfJc5d8cfH",
        "outputId": "5d8957be-5980-4270-e16a-0c15c7854941"
      },
      "execution_count": 32,
      "outputs": [
        {
          "output_type": "stream",
          "name": "stdout",
          "text": [
            "         N                 Должность Язык.программирования Специализация  \\\n",
            "12      13         Software Engineer                Python           NaN   \n",
            "68      69         Software Engineer                Python           NaN   \n",
            "87      88  Junior Software Engineer                Python           NaN   \n",
            "114    115  Junior Software Engineer                Python           NaN   \n",
            "143    144  Junior Software Engineer                Python           NaN   \n",
            "...    ...                       ...                   ...           ...   \n",
            "8546  8547         Software Engineer                Python           NaN   \n",
            "8625  8626         Software Engineer                Python           NaN   \n",
            "8635  8636  Senior Software Engineer                Python           NaN   \n",
            "8673  8674  Junior Software Engineer                Python           NaN   \n",
            "8695  8696         Software Engineer                Python           NaN   \n",
            "\n",
            "     Общий.опыт.работы Опыт.работы.на.текущем.месте  Зарплата.в.месяц  \\\n",
            "12                   1             меньше 3 месяцев               800   \n",
            "68                 1.5                          0.5               900   \n",
            "87                 0.5                          0.5               600   \n",
            "114                1.5                          0.5               685   \n",
            "143                  1                            1               750   \n",
            "...                ...                          ...               ...   \n",
            "8546                 5                            1              2000   \n",
            "8625                 4                            1              1750   \n",
            "8635    10 и более лет             меньше 3 месяцев              4000   \n",
            "8673               0.5                          0.5               350   \n",
            "8695                 1                          0.5              1500   \n",
            "\n",
            "      Изменение.зарплаты.за.12.месяцев      Город     Размер.компании  ...  \\\n",
            "12                                 200       Киев       до 50 человек  ...   \n",
            "68                                 900       Киев       до 10 человек  ...   \n",
            "87                                   0       Киев       до 10 человек  ...   \n",
            "114                                250       Киев     до 1000 человек  ...   \n",
            "143                                250       Киев       до 10 человек  ...   \n",
            "...                                ...        ...                 ...  ...   \n",
            "8546                               800  Запорожье       до 50 человек  ...   \n",
            "8625                                 0       Киев  свыше 1000 человек  ...   \n",
            "8635                              1300   Удаленно       до 10 человек  ...   \n",
            "8673                                50       Киев       до 50 человек  ...   \n",
            "8695                              1000       Киев       до 10 человек  ...   \n",
            "\n",
            "     Еще.студент Уровень.английского         Предметная.область  \\\n",
            "12         False       ниже среднего      Веб-разработка,Другое   \n",
            "68          True       выше среднего             Веб-разработка   \n",
            "87          True       выше среднего   Веб-разработка,eCommerce   \n",
            "114        False             средний                     Другое   \n",
            "143         True       выше среднего             Веб-разработка   \n",
            "...          ...                 ...                        ...   \n",
            "8546       False             средний             Веб-разработка   \n",
            "8625       False             средний             Веб-разработка   \n",
            "8635       False       выше среднего             Веб-разработка   \n",
            "8673       False             средний             Веб-разработка   \n",
            "8695       False             средний  Финансы и банки,eCommerce   \n",
            "\n",
            "          Дата.заполнения                                         User.Agent  \\\n",
            "12    12/06/2017 13:05:54  Mozilla/5.0 (Windows NT 6.1; Win64; x64) Apple...   \n",
            "68    12/06/2017 13:11:17  Mozilla/5.0 (Windows NT 10.0; Win64; x64) Appl...   \n",
            "87    12/06/2017 13:12:25  Mozilla/5.0 (X11; Linux x86_64) AppleWebKit/53...   \n",
            "114   12/06/2017 13:14:52  Mozilla/5.0 (X11; Linux x86_64) AppleWebKit/53...   \n",
            "143   12/06/2017 13:19:10  Mozilla/5.0 (X11; Linux x86_64) AppleWebKit/53...   \n",
            "...                   ...                                                ...   \n",
            "8546  10/07/2017 14:11:26  Mozilla/5.0 (Macintosh; Intel Mac OS X 10_12_5...   \n",
            "8625  11/07/2017 16:15:40  Mozilla/5.0 (X11; Ubuntu; Linux x86_64; rv:54....   \n",
            "8635  11/07/2017 17:51:36  Mozilla/5.0 (X11; Linux x86_64) AppleWebKit/53...   \n",
            "8673  12/07/2017 09:37:16  Mozilla/5.0 (X11; Ubuntu; Linux x86_64; rv:54....   \n",
            "8695  12/07/2017 14:39:21  Mozilla/5.0 (X11; Linux x86_64) AppleWebKit/53...   \n",
            "\n",
            "       exp current_job_exp salary Валюта  cls  \n",
            "12     1.0             0.0    800    NaN  DEV  \n",
            "68     1.5             0.5    900    NaN  DEV  \n",
            "87     0.5             0.5    600    NaN  DEV  \n",
            "114    1.5             0.5    685    NaN  DEV  \n",
            "143    1.0             1.0    750    NaN  DEV  \n",
            "...    ...             ...    ...    ...  ...  \n",
            "8546   5.0             1.0   2000    NaN  DEV  \n",
            "8625   4.0             1.0   1750    NaN  DEV  \n",
            "8635  10.0             0.0   4000    NaN  DEV  \n",
            "8673   0.5             0.5    350    NaN  DEV  \n",
            "8695   1.0             0.5   1500    NaN  DEV  \n",
            "\n",
            "[207 rows x 25 columns]\n"
          ]
        }
      ]
    },
    {
      "cell_type": "markdown",
      "source": [
        "11. Визначте розмір таблиці python_data за допомогою методу shape"
      ],
      "metadata": {
        "id": "Cfk6pOHet9D8"
      }
    },
    {
      "cell_type": "code",
      "source": [
        "print(python_data.shape)"
      ],
      "metadata": {
        "colab": {
          "base_uri": "https://localhost:8080/"
        },
        "id": "hiIjnfyh8w6N",
        "outputId": "d565240c-a43e-4367-c584-dd6ae3560515"
      },
      "execution_count": 33,
      "outputs": [
        {
          "output_type": "stream",
          "name": "stdout",
          "text": [
            "(207, 25)\n"
          ]
        }
      ]
    },
    {
      "cell_type": "markdown",
      "source": [
        "12. Використовуючи метод groupby, виконайте групування за стовпчиком \"Посада\""
      ],
      "metadata": {
        "id": "scUbbcsxt_zz"
      }
    },
    {
      "cell_type": "code",
      "source": [
        "sorted_data = python_data.groupby(\"Должность\").size().reset_index(name='Кількість')\n",
        "print(sorted_data)"
      ],
      "metadata": {
        "colab": {
          "base_uri": "https://localhost:8080/"
        },
        "id": "Wa16t56M89-L",
        "outputId": "9ac166fe-2fb9-46c0-9cb4-aa946dac6bdf"
      },
      "execution_count": 39,
      "outputs": [
        {
          "output_type": "stream",
          "name": "stdout",
          "text": [
            "                  Должность  Кількість\n",
            "0  Junior Software Engineer         63\n",
            "1  Senior Software Engineer         31\n",
            "2         Software Engineer        100\n",
            "3          System Architect          2\n",
            "4            Technical Lead         11\n"
          ]
        }
      ]
    },
    {
      "cell_type": "markdown",
      "source": [
        "13. Створіть новий DataFrame, де для згрупованих даних за стовпчиком \"Посада\", виконайте агрегацію даних за допомогою методу agg і знайдіть мінімальне та максимальне значення у стовпчику \"Зарплата.в.місяць\""
      ],
      "metadata": {
        "id": "0_KVT2Q1uB2N"
      }
    },
    {
      "cell_type": "code",
      "source": [
        "aggregated_data = python_data.groupby('Должность').agg({\"Зарплата.в.месяц\": [\"min\", \"max\"]}).reset_index()\n",
        "print(aggregated_data)"
      ],
      "metadata": {
        "colab": {
          "base_uri": "https://localhost:8080/"
        },
        "id": "BcDbwxM-9svp",
        "outputId": "d92abf22-ed7a-4744-a69b-596b6b53237e"
      },
      "execution_count": 40,
      "outputs": [
        {
          "output_type": "stream",
          "name": "stdout",
          "text": [
            "                  Должность Зарплата.в.месяц      \n",
            "                                         min   max\n",
            "0  Junior Software Engineer              100  1250\n",
            "1  Senior Software Engineer             1300  9200\n",
            "2         Software Engineer              500  5400\n",
            "3          System Architect             3000  5000\n",
            "4            Technical Lead             1425  6200\n"
          ]
        }
      ]
    },
    {
      "cell_type": "markdown",
      "source": [
        "14. Створіть функцію fill_avg_salary, яка повертатиме середнє значення заробітної плати на місяць. Використовуйте її для методу apply та створіть новий стовпчик \"avg\""
      ],
      "metadata": {
        "id": "0F9XPcmguEzV"
      }
    },
    {
      "cell_type": "code",
      "source": [
        "#\n",
        "def fill_avg_salary(row):\n",
        "    return (row[\"Зарплата.в.месяц\"][\"min\"] + row[\"Зарплата.в.месяц\"][\"max\"]) / 2\n",
        "\n",
        "\n",
        "aggregated_data[\"avg\"] = aggregated_data.apply(fill_avg_salary, axis=1)\n",
        "print(aggregated_data)"
      ],
      "metadata": {
        "colab": {
          "base_uri": "https://localhost:8080/"
        },
        "id": "SPq1J4qf-Th0",
        "outputId": "4c684a85-3fd6-4f0f-d254-7e5327970b26"
      },
      "execution_count": 55,
      "outputs": [
        {
          "output_type": "stream",
          "name": "stdout",
          "text": [
            "                  Должность Зарплата.в.месяц           avg\n",
            "                                         min   max        \n",
            "0  Junior Software Engineer              100  1250   675.0\n",
            "1  Senior Software Engineer             1300  9200  5250.0\n",
            "2         Software Engineer              500  5400  2950.0\n",
            "3          System Architect             3000  5000  4000.0\n",
            "4            Technical Lead             1425  6200  3812.5\n"
          ]
        }
      ]
    },
    {
      "cell_type": "markdown",
      "source": [
        "15. Створіть описову статистику за допомогою методу describe для нового стовпчика."
      ],
      "metadata": {
        "id": "-B56DjTNuF5S"
      }
    },
    {
      "cell_type": "code",
      "source": [
        "print(aggregated_data[\"avg\"].describe())"
      ],
      "metadata": {
        "colab": {
          "base_uri": "https://localhost:8080/"
        },
        "id": "kt_PGOh1Cp4x",
        "outputId": "444abbd0-2d26-43cd-bb98-7ca138007d04"
      },
      "execution_count": 56,
      "outputs": [
        {
          "output_type": "stream",
          "name": "stdout",
          "text": [
            "count       5.000000\n",
            "mean     3337.500000\n",
            "std      1700.091909\n",
            "min       675.000000\n",
            "25%      2950.000000\n",
            "50%      3812.500000\n",
            "75%      4000.000000\n",
            "max      5250.000000\n",
            "Name: avg, dtype: float64\n"
          ]
        }
      ]
    },
    {
      "cell_type": "markdown",
      "source": [
        "16. Збережіть отриману таблицю в CSV файл"
      ],
      "metadata": {
        "id": "TZB9wfwsuHRM"
      }
    },
    {
      "cell_type": "code",
      "source": [
        "aggregated_data.to_csv(\"new_data_with_avg.csv\")"
      ],
      "metadata": {
        "id": "2jkGAp8cCU-0"
      },
      "execution_count": 57,
      "outputs": []
    }
  ]
}