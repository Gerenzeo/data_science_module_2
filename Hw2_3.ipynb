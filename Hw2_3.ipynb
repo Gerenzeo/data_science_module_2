{
  "nbformat": 4,
  "nbformat_minor": 0,
  "metadata": {
    "colab": {
      "provenance": [],
      "authorship_tag": "ABX9TyMglWBgA5K66vw0cdVXWfn4",
      "include_colab_link": true
    },
    "kernelspec": {
      "name": "python3",
      "display_name": "Python 3"
    },
    "language_info": {
      "name": "python"
    }
  },
  "cells": [
    {
      "cell_type": "markdown",
      "metadata": {
        "id": "view-in-github",
        "colab_type": "text"
      },
      "source": [
        "<a href=\"https://colab.research.google.com/github/Gerenzeo/data_science_module_2/blob/main/Hw2_3.ipynb\" target=\"_parent\"><img src=\"https://colab.research.google.com/assets/colab-badge.svg\" alt=\"Open In Colab\"/></a>"
      ]
    },
    {
      "cell_type": "code",
      "execution_count": 1,
      "metadata": {
        "id": "EGAacief4Rhc"
      },
      "outputs": [],
      "source": [
        "import pandas as pd"
      ]
    },
    {
      "cell_type": "code",
      "source": [
        "data = pd.read_csv(\"/content/bestsellers with categories.csv\")"
      ],
      "metadata": {
        "id": "PgtV7Edu56bk"
      },
      "execution_count": 2,
      "outputs": []
    },
    {
      "cell_type": "code",
      "source": [
        "data.columns = [\"name\", \"author\",  \"user_rating\",  \"reviews\", \"price\", \"year\", \"genre\"]"
      ],
      "metadata": {
        "id": "wdIVWhQh6IUa"
      },
      "execution_count": 3,
      "outputs": []
    },
    {
      "cell_type": "code",
      "source": [
        "print(data)"
      ],
      "metadata": {
        "colab": {
          "base_uri": "https://localhost:8080/"
        },
        "id": "LgRX3Y3S6B2v",
        "outputId": "52d88772-797b-449a-a11a-14fb890ab295"
      },
      "execution_count": null,
      "outputs": [
        {
          "output_type": "stream",
          "name": "stdout",
          "text": [
            "                                                  name  \\\n",
            "0                        10-Day Green Smoothie Cleanse   \n",
            "1                                    11/22/63: A Novel   \n",
            "2              12 Rules for Life: An Antidote to Chaos   \n",
            "3                               1984 (Signet Classics)   \n",
            "4    5,000 Awesome Facts (About Everything!) (Natio...   \n",
            "..                                                 ...   \n",
            "545       Wrecking Ball (Diary of a Wimpy Kid Book 14)   \n",
            "546  You Are a Badass: How to Stop Doubting Your Gr...   \n",
            "547  You Are a Badass: How to Stop Doubting Your Gr...   \n",
            "548  You Are a Badass: How to Stop Doubting Your Gr...   \n",
            "549  You Are a Badass: How to Stop Doubting Your Gr...   \n",
            "\n",
            "                       author  user_rating  reviews  price  year        genre  \n",
            "0                    JJ Smith          4.7    17350      8  2016  Non Fiction  \n",
            "1                Stephen King          4.6     2052     22  2011      Fiction  \n",
            "2          Jordan B. Peterson          4.7    18979     15  2018  Non Fiction  \n",
            "3               George Orwell          4.7    21424      6  2017      Fiction  \n",
            "4    National Geographic Kids          4.8     7665     12  2019  Non Fiction  \n",
            "..                        ...          ...      ...    ...   ...          ...  \n",
            "545               Jeff Kinney          4.9     9413      8  2019      Fiction  \n",
            "546               Jen Sincero          4.7    14331      8  2016  Non Fiction  \n",
            "547               Jen Sincero          4.7    14331      8  2017  Non Fiction  \n",
            "548               Jen Sincero          4.7    14331      8  2018  Non Fiction  \n",
            "549               Jen Sincero          4.7    14331      8  2019  Non Fiction  \n",
            "\n",
            "[550 rows x 7 columns]\n"
          ]
        }
      ]
    },
    {
      "cell_type": "markdown",
      "source": [
        "# **Первинне дослідження даних**\n"
      ],
      "metadata": {
        "id": "nkhHKuRA9pkC"
      }
    },
    {
      "cell_type": "markdown",
      "source": [
        "1. Перевірте, чи у всіх рядків вистачає даних: виведіть кількість пропусків (na) у кожному зі стовпців (використовуйте функції isna та sum)"
      ],
      "metadata": {
        "id": "8TOsulhP-uLp"
      }
    },
    {
      "cell_type": "code",
      "source": [
        "checked_data = data.isna().sum()\n",
        "print(checked_data)"
      ],
      "metadata": {
        "colab": {
          "base_uri": "https://localhost:8080/"
        },
        "id": "DxWD7yDb95YG",
        "outputId": "9afc546e-3045-4829-ea35-560a2ef82e26"
      },
      "execution_count": null,
      "outputs": [
        {
          "output_type": "stream",
          "name": "stdout",
          "text": [
            "name           0\n",
            "author         0\n",
            "user_rating    0\n",
            "reviews        0\n",
            "price          0\n",
            "year           0\n",
            "genre          0\n",
            "dtype: int64\n"
          ]
        }
      ]
    },
    {
      "cell_type": "markdown",
      "source": [
        "Чи є в якихось змінних пропуски? (Так / ні)"
      ],
      "metadata": {
        "id": "dgKDHFab-eRA"
      }
    },
    {
      "cell_type": "markdown",
      "source": [
        "Відповідь: Ні"
      ],
      "metadata": {
        "id": "6KRyOokL-jIG"
      }
    },
    {
      "cell_type": "markdown",
      "source": [
        "2. Перевірте, які є унікальні значення в колонці genre (використовуйте функцію unique)"
      ],
      "metadata": {
        "id": "GVc3xvrx-0bP"
      }
    },
    {
      "cell_type": "code",
      "source": [
        "print(data[\"genre\"].unique())"
      ],
      "metadata": {
        "colab": {
          "base_uri": "https://localhost:8080/"
        },
        "id": "W_qB8lbj-ruE",
        "outputId": "10b25e40-7300-4900-d883-ea5f664eec8c"
      },
      "execution_count": null,
      "outputs": [
        {
          "output_type": "stream",
          "name": "stdout",
          "text": [
            "['Non Fiction' 'Fiction']\n"
          ]
        }
      ]
    },
    {
      "cell_type": "markdown",
      "source": [
        "Які є унікальні жанри?"
      ],
      "metadata": {
        "id": "OHnzCuTK_k64"
      }
    },
    {
      "cell_type": "markdown",
      "source": [
        "Відповідь:\n",
        "* Non Fiction\n",
        "* Fiction"
      ],
      "metadata": {
        "id": "oDdHCt5V_l-d"
      }
    },
    {
      "cell_type": "markdown",
      "source": [
        "3. Тепер подивіться на розподіл цін: побудуйте діаграму (використовуйте kind='hist')"
      ],
      "metadata": {
        "id": "Q8xU7H4D_36B"
      }
    },
    {
      "cell_type": "code",
      "source": [
        "import matplotlib.pyplot as plt"
      ],
      "metadata": {
        "id": "9aN4jTq4AJy7"
      },
      "execution_count": null,
      "outputs": []
    },
    {
      "cell_type": "code",
      "source": [
        "data[\"price\"].plot(kind=\"hist\", bins=20, edgecolor=\"black\")\n",
        "\n",
        "plt.title('Розподіл цін', fontsize=15)\n",
        "plt.xlabel(\"Ціна\")\n",
        "plt.ylabel(\"Частота\")\n",
        "\n",
        "plt.show()"
      ],
      "metadata": {
        "colab": {
          "base_uri": "https://localhost:8080/",
          "height": 472
        },
        "id": "Ua33huw0AUBv",
        "outputId": "c00f7259-0958-4f6b-ad0d-68d946d98704"
      },
      "execution_count": null,
      "outputs": [
        {
          "output_type": "display_data",
          "data": {
            "text/plain": [
              "<Figure size 640x480 with 1 Axes>"
            ],
            "image/png": "[encoded data removed]"
          },
          "metadata": {}
        }
      ]
    },
    {
      "cell_type": "markdown",
      "source": [
        "Визначте, яка ціна у нас максимальна, мінімальна, середня, медіанна (використовуйте функції max, min, mean, median)"
      ],
      "metadata": {
        "id": "7uoclOShFO2D"
      }
    },
    {
      "cell_type": "markdown",
      "source": [
        "* Максимальна ціна?\n",
        "* Мінімальна ціна?\n",
        "* Середня ціна?\n",
        "* Медіанна ціна?"
      ],
      "metadata": {
        "id": "2cEIbvhcFQ3D"
      }
    },
    {
      "cell_type": "code",
      "source": [
        "print(\"Max: \", data[\"price\"].max())\n",
        "print(\"Min: \", data[\"price\"].min())\n",
        "print(\"AVG: \", data[\"price\"].mean())\n",
        "print(\"Median: \", data[\"price\"].median())"
      ],
      "metadata": {
        "colab": {
          "base_uri": "https://localhost:8080/"
        },
        "id": "GWkM4l6AFXc9",
        "outputId": "b48d6626-eb33-43ac-9f7a-9d4069365462"
      },
      "execution_count": null,
      "outputs": [
        {
          "output_type": "stream",
          "name": "stdout",
          "text": [
            "Max:  105\n",
            "Min:  0\n",
            "AVG:  13.1\n",
            "AVG:  11.0\n"
          ]
        }
      ]
    },
    {
      "cell_type": "markdown",
      "source": [
        "# **Пошук та сортування даних**"
      ],
      "metadata": {
        "id": "CdMOZOfwGwM9"
      }
    },
    {
      "cell_type": "markdown",
      "source": [
        "Який рейтинг у датасеті найвищий?"
      ],
      "metadata": {
        "id": "CmoQZfShGyeb"
      }
    },
    {
      "cell_type": "code",
      "source": [
        "print(data[\"user_rating\"].max())"
      ],
      "metadata": {
        "colab": {
          "base_uri": "https://localhost:8080/"
        },
        "id": "uEbSIfNsG7Ck",
        "outputId": "96c533a9-9b35-45dd-ae9c-f522ead60540"
      },
      "execution_count": null,
      "outputs": [
        {
          "output_type": "stream",
          "name": "stdout",
          "text": [
            "4.9\n"
          ]
        }
      ]
    },
    {
      "cell_type": "markdown",
      "source": [
        "Відповідь: 4.9"
      ],
      "metadata": {
        "id": "QHBURDIUG9e2"
      }
    },
    {
      "cell_type": "markdown",
      "source": [
        "Скільки книг мають такий рейтинг?"
      ],
      "metadata": {
        "id": "vrwTbPAfJcRH"
      }
    },
    {
      "cell_type": "code",
      "source": [
        "max_rating = data[\"user_rating\"].max()\n",
        "count_max_rating = data[data[\"user_rating\"] == max_rating]\n",
        "\n",
        "print(len(count_max_rating))"
      ],
      "metadata": {
        "colab": {
          "base_uri": "https://localhost:8080/"
        },
        "id": "sJMc2yxKG9LC",
        "outputId": "670b8685-9769-4b3b-c436-4cfc0bfb803f"
      },
      "execution_count": null,
      "outputs": [
        {
          "output_type": "stream",
          "name": "stdout",
          "text": [
            "52\n"
          ]
        }
      ]
    },
    {
      "cell_type": "markdown",
      "source": [
        "Відповідь: 52"
      ],
      "metadata": {
        "id": "f3nYbw9vKNqG"
      }
    },
    {
      "cell_type": "markdown",
      "source": [
        "Яка книга має найбільше відгуків?"
      ],
      "metadata": {
        "id": "xTEMSoiXLcLo"
      }
    },
    {
      "cell_type": "code",
      "source": [
        "print(data.loc[data[\"reviews\"].idxmax()])"
      ],
      "metadata": {
        "colab": {
          "base_uri": "https://localhost:8080/"
        },
        "id": "iLporNf2LdAW",
        "outputId": "90093d83-e24f-4fa8-ec0d-dd85b959a141"
      },
      "execution_count": null,
      "outputs": [
        {
          "output_type": "stream",
          "name": "stdout",
          "text": [
            "name           Where the Crawdads Sing\n",
            "author                     Delia Owens\n",
            "user_rating                        4.8\n",
            "reviews                          87841\n",
            "price                               15\n",
            "year                              2019\n",
            "genre                          Fiction\n",
            "Name: 534, dtype: object\n"
          ]
        }
      ]
    },
    {
      "cell_type": "markdown",
      "source": [
        "Відповідь: 87841"
      ],
      "metadata": {
        "id": "avqOhM3eL99R"
      }
    },
    {
      "cell_type": "markdown",
      "source": [
        "З тих книг, що потрапили до Топ-50 у 2015 році, яка книга найдорожча (можна використати проміжний датафрейм)?"
      ],
      "metadata": {
        "id": "xDbjwSbxMJ0p"
      }
    },
    {
      "cell_type": "code",
      "source": [
        "top_50_2015 = data[(data['year'] == 2015) & (data['user_rating'] >= 4.0)].sort_values(by='user_rating', ascending=False).head(50)\n",
        "print(top_50_2015.loc[top_50_2015['price'].idxmax()])"
      ],
      "metadata": {
        "colab": {
          "base_uri": "https://localhost:8080/"
        },
        "id": "4M4-stgUMKeh",
        "outputId": "798b6d4b-a667-4a1d-a856-a13f3a6bb1c5"
      },
      "execution_count": null,
      "outputs": [
        {
          "output_type": "stream",
          "name": "stdout",
          "text": [
            "name           Publication Manual of the American Psychologic...\n",
            "author                        American Psychological Association\n",
            "user_rating                                                  4.5\n",
            "reviews                                                     8580\n",
            "price                                                         46\n",
            "year                                                        2015\n",
            "genre                                                Non Fiction\n",
            "Name: 277, dtype: object\n"
          ]
        }
      ]
    },
    {
      "cell_type": "markdown",
      "source": [
        "Скільки книг жанру Fiction потрапили до Топ-50 у 2010 році (використовуйте &)?"
      ],
      "metadata": {
        "id": "bIVjPLiDWzcT"
      }
    },
    {
      "cell_type": "code",
      "source": [
        "top_50_2010 = data[(data[\"year\"] == 2010) & (data[\"genre\"] == \"Fiction\")]\n",
        "print(len(top_50_2010))"
      ],
      "metadata": {
        "colab": {
          "base_uri": "https://localhost:8080/"
        },
        "id": "XoslMgeCW0CK",
        "outputId": "a638bf41-abe3-4604-9be8-9b5ac5423aab"
      },
      "execution_count": null,
      "outputs": [
        {
          "output_type": "stream",
          "name": "stdout",
          "text": [
            "20\n"
          ]
        }
      ]
    },
    {
      "cell_type": "markdown",
      "source": [
        "Відповідь: 20"
      ],
      "metadata": {
        "id": "ULbkdVXxXqD5"
      }
    },
    {
      "cell_type": "markdown",
      "source": [
        "Скільки книг з рейтингом 4.9 потрапило до рейтингу у 2010 та 2011 роках (використовуйте | або функцію isin)?"
      ],
      "metadata": {
        "id": "tdaJ0HheXskq"
      }
    },
    {
      "cell_type": "code",
      "source": [
        "count_books_in_2010_2011 = data[\n",
        "    ((data[\"year\"] == 2010) & (data[\"user_rating\"] == 4.9)) |\n",
        "    ((data[\"year\"] == 2011) & (data[\"user_rating\"] == 4.9))\n",
        "]\n",
        "\n",
        "print(len(count_books_in_2010_2011))"
      ],
      "metadata": {
        "colab": {
          "base_uri": "https://localhost:8080/"
        },
        "id": "OODNdnpTXvzb",
        "outputId": "7cba391b-67bb-4b48-e2c6-8e3d2daca7d6"
      },
      "execution_count": null,
      "outputs": [
        {
          "output_type": "stream",
          "name": "stdout",
          "text": [
            "1\n"
          ]
        }
      ]
    },
    {
      "cell_type": "markdown",
      "source": [
        "Відповідь: 1"
      ],
      "metadata": {
        "id": "6MSNDlnYax6C"
      }
    },
    {
      "cell_type": "markdown",
      "source": [
        "І насамкінець, давайте відсортуємо за зростанням ціни всі книги, які потрапили до рейтингу в 2015 році і коштують дешевше за 8 доларів (використовуйте функцію sort_values)."
      ],
      "metadata": {
        "id": "fSoQZ_A1az_M"
      }
    },
    {
      "cell_type": "code",
      "source": [
        "books_2015_less_8 = data[(data[\"year\"] == 2015) & (data[\"price\"] < 8)]\n",
        "print(books_2015_less_8.sort_values(by=\"price\").tail(1))"
      ],
      "metadata": {
        "colab": {
          "base_uri": "https://localhost:8080/"
        },
        "id": "AqSnPlNOaxqQ",
        "outputId": "e121762f-1a25-4854-d59f-4b6e7057a8fd"
      },
      "execution_count": null,
      "outputs": [
        {
          "output_type": "stream",
          "name": "stdout",
          "text": [
            "                                      name       author  user_rating  reviews  \\\n",
            "253  Old School (Diary of a Wimpy Kid #10)  Jeff Kinney          4.8     6169   \n",
            "\n",
            "     price  year    genre  \n",
            "253      7  2015  Fiction  \n"
          ]
        }
      ]
    },
    {
      "cell_type": "markdown",
      "source": [
        "# **Агрегування даних та з'єднання таблиць**"
      ],
      "metadata": {
        "id": "wL5wR4I0b3jE"
      }
    },
    {
      "cell_type": "code",
      "source": [
        "genre_prices = data.groupby(\"genre\")[\"price\"].agg([\"min\", \"max\"])\n",
        "print(genre_prices)"
      ],
      "metadata": {
        "colab": {
          "base_uri": "https://localhost:8080/"
        },
        "id": "9nBa39ICM4iF",
        "outputId": "60cbf39e-8f10-460e-e34a-1442bed5e812"
      },
      "execution_count": 5,
      "outputs": [
        {
          "output_type": "stream",
          "name": "stdout",
          "text": [
            "             min  max\n",
            "genre                \n",
            "Fiction        0   82\n",
            "Non Fiction    0  105\n"
          ]
        }
      ]
    },
    {
      "cell_type": "markdown",
      "source": [
        "* Максимальна ціна для жанру Fiction: 82\n",
        "* Мінімальна ціна для жанру Fiction: 0\n",
        "* Максимальна ціна для жанру Non Fiction: 105\n",
        "* Мінімальна ціна для жанру Non Fiction: 0"
      ],
      "metadata": {
        "id": "iBPYFhB7NakW"
      }
    },
    {
      "cell_type": "code",
      "source": [
        "author_book_count = data.groupby('author')['name'].agg('count').reset_index()\n",
        "author_book_count = author_book_count.rename(columns={'name': 'book_count'})\n",
        "print(author_book_count)"
      ],
      "metadata": {
        "colab": {
          "base_uri": "https://localhost:8080/"
        },
        "id": "dJ4OyTEPNaJp",
        "outputId": "9f83557e-a225-4d6c-fcff-571379c42728"
      },
      "execution_count": 6,
      "outputs": [
        {
          "output_type": "stream",
          "name": "stdout",
          "text": [
            "                         author  book_count\n",
            "0              Abraham Verghese           2\n",
            "1                Adam Gasiewski           1\n",
            "2                 Adam Mansbach           1\n",
            "3                     Adir Levy           1\n",
            "4    Admiral William H. McRaven           1\n",
            "..                          ...         ...\n",
            "243             Walter Isaacson           3\n",
            "244               William Davis           2\n",
            "245            William P. Young           2\n",
            "246            Wizards RPG Team           3\n",
            "247                Zhi Gang Sha           2\n",
            "\n",
            "[248 rows x 2 columns]\n"
          ]
        }
      ]
    },
    {
      "cell_type": "code",
      "source": [
        "print(author_book_count.shape)"
      ],
      "metadata": {
        "colab": {
          "base_uri": "https://localhost:8080/"
        },
        "id": "dZOqgTuEN8iB",
        "outputId": "ea2e12af-aa1f-4ff6-a8d5-536bd0e73929"
      },
      "execution_count": 8,
      "outputs": [
        {
          "output_type": "stream",
          "name": "stdout",
          "text": [
            "(248, 2)\n"
          ]
        }
      ]
    },
    {
      "cell_type": "markdown",
      "source": [
        "Якої розмірності вийшла таблиця? Відповідь:\n",
        "* 248 рядків\n",
        "* 2 стовпців"
      ],
      "metadata": {
        "id": "lcZeRHtSODuV"
      }
    },
    {
      "cell_type": "code",
      "source": [
        "print(author_book_count.loc[author_book_count['book_count'].idxmax()][\"author\"])"
      ],
      "metadata": {
        "colab": {
          "base_uri": "https://localhost:8080/"
        },
        "id": "BTxg6jX3OYs7",
        "outputId": "c48c61b7-a3c7-4fd4-8bd1-6c5ee21bfb57"
      },
      "execution_count": 9,
      "outputs": [
        {
          "output_type": "stream",
          "name": "stdout",
          "text": [
            "Jeff Kinney\n"
          ]
        }
      ]
    },
    {
      "cell_type": "markdown",
      "source": [
        "Який автор має найбільше книг? Відповідь: Jeff Kinney"
      ],
      "metadata": {
        "id": "0njMxhmyOlzO"
      }
    },
    {
      "cell_type": "code",
      "source": [],
      "metadata": {
        "colab": {
          "base_uri": "https://localhost:8080/"
        },
        "id": "g3j_U1vZOqE5",
        "outputId": "7d2c9096-dd89-494d-bd11-83ee683c45fa"
      },
      "execution_count": 11,
      "outputs": [
        {
          "output_type": "stream",
          "name": "stdout",
          "text": [
            "2\n"
          ]
        }
      ]
    },
    {
      "cell_type": "markdown",
      "source": [
        "Скільки книг цього автора? Відповідь: 12"
      ],
      "metadata": {
        "id": "IF7_qVK2OrD4"
      }
    },
    {
      "cell_type": "code",
      "source": [
        "print(author_book_count.loc[author_book_count['book_count'].idxmax()])"
      ],
      "metadata": {
        "colab": {
          "base_uri": "https://localhost:8080/"
        },
        "id": "GP9AfoCShbdb",
        "outputId": "3f4e720f-231d-4d7f-a661-206da3dc9990"
      },
      "execution_count": 12,
      "outputs": [
        {
          "output_type": "stream",
          "name": "stdout",
          "text": [
            "author        Jeff Kinney\n",
            "book_count             12\n",
            "Name: 120, dtype: object\n"
          ]
        }
      ]
    },
    {
      "cell_type": "markdown",
      "source": [
        "Тепер створіть другий датафрейм, який буде вміщати середній рейтинг для кожного автора (використовуйте функції groupby та agg, для підрахунку середнього значення використовуйте mean). Не беріть усі стовпці, виберете тільки потрібні"
      ],
      "metadata": {
        "id": "toPsPIZ3hu0u"
      }
    },
    {
      "cell_type": "code",
      "source": [
        "author_avarage_rating = data.groupby(\"author\")[\"user_rating\"].agg(\"mean\").reset_index()\n",
        "print(author_avarage_rating)"
      ],
      "metadata": {
        "colab": {
          "base_uri": "https://localhost:8080/"
        },
        "id": "I8O3qLHnhvlO",
        "outputId": "a0272aa8-9344-4a06-933e-84015ec8a6e0"
      },
      "execution_count": 14,
      "outputs": [
        {
          "output_type": "stream",
          "name": "stdout",
          "text": [
            "                         author  user_rating\n",
            "0              Abraham Verghese     4.600000\n",
            "1                Adam Gasiewski     4.400000\n",
            "2                 Adam Mansbach     4.800000\n",
            "3                     Adir Levy     4.800000\n",
            "4    Admiral William H. McRaven     4.700000\n",
            "..                          ...          ...\n",
            "243             Walter Isaacson     4.566667\n",
            "244               William Davis     4.400000\n",
            "245            William P. Young     4.600000\n",
            "246            Wizards RPG Team     4.800000\n",
            "247                Zhi Gang Sha     4.600000\n",
            "\n",
            "[248 rows x 2 columns]\n"
          ]
        }
      ]
    },
    {
      "cell_type": "markdown",
      "source": [
        "У якого автора середній рейтинг мінімальний? Відповідь: Abraham Verghese"
      ],
      "metadata": {
        "id": "mB7A_qwXiN8F"
      }
    },
    {
      "cell_type": "code",
      "source": [
        "print(author_avarage_rating.min()[\"author\"])"
      ],
      "metadata": {
        "colab": {
          "base_uri": "https://localhost:8080/"
        },
        "id": "KdqU-6nwiIZq",
        "outputId": "af6517c6-921f-4e38-8080-27ffd6fe8ff7"
      },
      "execution_count": 16,
      "outputs": [
        {
          "output_type": "stream",
          "name": "stdout",
          "text": [
            "Abraham Verghese\n"
          ]
        }
      ]
    },
    {
      "cell_type": "markdown",
      "source": [
        "Який у цього автора середній рейтинг? Відповідь: 3.9"
      ],
      "metadata": {
        "id": "UnKpCVtaiWhl"
      }
    },
    {
      "cell_type": "code",
      "source": [
        "print(author_avarage_rating.min())"
      ],
      "metadata": {
        "colab": {
          "base_uri": "https://localhost:8080/"
        },
        "id": "V0IyRW5WiZw5",
        "outputId": "892018d6-bfa8-4ba0-c0af-f1a67cfb8599"
      },
      "execution_count": 17,
      "outputs": [
        {
          "output_type": "stream",
          "name": "stdout",
          "text": [
            "author         Abraham Verghese\n",
            "user_rating                 3.9\n",
            "dtype: object\n"
          ]
        }
      ]
    },
    {
      "cell_type": "markdown",
      "source": [
        "З'єднайте останні два датафрейми так, щоб для кожного автора було видно кількість книг та середній рейтинг (Використовуйте функцію concat з параметром axis=1). Збережіть результат у змінну"
      ],
      "metadata": {
        "id": "GM0vU3V2iuqK"
      }
    },
    {
      "cell_type": "code",
      "source": [
        "new_dataframe = pd.concat([author_book_count, author_avarage_rating], axis=1)\n",
        "print(new_dataframe)"
      ],
      "metadata": {
        "colab": {
          "base_uri": "https://localhost:8080/"
        },
        "id": "doMta9JViiRo",
        "outputId": "83970954-e4ee-4978-c911-ccf8c8e93dcc"
      },
      "execution_count": 18,
      "outputs": [
        {
          "output_type": "stream",
          "name": "stdout",
          "text": [
            "                         author  book_count                      author  \\\n",
            "0              Abraham Verghese           2            Abraham Verghese   \n",
            "1                Adam Gasiewski           1              Adam Gasiewski   \n",
            "2                 Adam Mansbach           1               Adam Mansbach   \n",
            "3                     Adir Levy           1                   Adir Levy   \n",
            "4    Admiral William H. McRaven           1  Admiral William H. McRaven   \n",
            "..                          ...         ...                         ...   \n",
            "243             Walter Isaacson           3             Walter Isaacson   \n",
            "244               William Davis           2               William Davis   \n",
            "245            William P. Young           2            William P. Young   \n",
            "246            Wizards RPG Team           3            Wizards RPG Team   \n",
            "247                Zhi Gang Sha           2                Zhi Gang Sha   \n",
            "\n",
            "     user_rating  \n",
            "0       4.600000  \n",
            "1       4.400000  \n",
            "2       4.800000  \n",
            "3       4.800000  \n",
            "4       4.700000  \n",
            "..           ...  \n",
            "243     4.566667  \n",
            "244     4.400000  \n",
            "245     4.600000  \n",
            "246     4.800000  \n",
            "247     4.600000  \n",
            "\n",
            "[248 rows x 4 columns]\n"
          ]
        }
      ]
    },
    {
      "cell_type": "markdown",
      "source": [
        "Відсортуйте датафрейм за зростаючою кількістю книг та зростаючим рейтингом (використовуйте функцію sort_values)"
      ],
      "metadata": {
        "id": "h-PdCm5yix1c"
      }
    },
    {
      "cell_type": "code",
      "source": [
        "new_dataframe = new_dataframe.sort_values(by=\"book_count\")\n",
        "print(new_dataframe)"
      ],
      "metadata": {
        "colab": {
          "base_uri": "https://localhost:8080/"
        },
        "id": "ZIJ6nYEDizGO",
        "outputId": "a5bce799-3b81-4b9f-87ba-8aa05dd36865"
      },
      "execution_count": 20,
      "outputs": [
        {
          "output_type": "stream",
          "name": "stdout",
          "text": [
            "                                 author  book_count  \\\n",
            "123                          Jill Twiss           1   \n",
            "6                            Alan Moore           1   \n",
            "5           Adult Coloring Book Designs           1   \n",
            "4            Admiral William H. McRaven           1   \n",
            "3                             Adir Levy           1   \n",
            "..                                  ...         ...   \n",
            "11   American Psychological Association          10   \n",
            "197                        Rick Riordan          11   \n",
            "226                     Suzanne Collins          11   \n",
            "92                         Gary Chapman          11   \n",
            "120                         Jeff Kinney          12   \n",
            "\n",
            "                                 author  user_rating  \n",
            "123                          Jill Twiss     4.900000  \n",
            "6                            Alan Moore     4.800000  \n",
            "5           Adult Coloring Book Designs     4.500000  \n",
            "4            Admiral William H. McRaven     4.700000  \n",
            "3                             Adir Levy     4.800000  \n",
            "..                                  ...          ...  \n",
            "11   American Psychological Association     4.500000  \n",
            "197                        Rick Riordan     4.772727  \n",
            "226                     Suzanne Collins     4.663636  \n",
            "92                         Gary Chapman     4.736364  \n",
            "120                         Jeff Kinney     4.800000  \n",
            "\n",
            "[248 rows x 4 columns]\n"
          ]
        }
      ]
    },
    {
      "cell_type": "markdown",
      "source": [
        "Який автор перший у списку? Відповідь:  Jill Twiss"
      ],
      "metadata": {
        "id": "wdoj8f_ujFgS"
      }
    },
    {
      "cell_type": "code",
      "source": [
        "print(new_dataframe.iloc[0][\"author\"])"
      ],
      "metadata": {
        "colab": {
          "base_uri": "https://localhost:8080/"
        },
        "id": "_jf_YdGYjHmx",
        "outputId": "591871e1-4aca-45c7-ac68-30e63e9c955d"
      },
      "execution_count": 24,
      "outputs": [
        {
          "output_type": "stream",
          "name": "stdout",
          "text": [
            "author    Jill Twiss\n",
            "author    Jill Twiss\n",
            "Name: 123, dtype: object\n"
          ]
        }
      ]
    },
    {
      "cell_type": "markdown",
      "source": [
        "# **Візуалізація**"
      ],
      "metadata": {
        "id": "ehFnYPuBnbHD"
      }
    },
    {
      "cell_type": "code",
      "source": [
        "import matplotlib.pyplot as plt\n",
        "\n",
        "%matplotlib inline"
      ],
      "metadata": {
        "id": "GB3MUnIincJZ"
      },
      "execution_count": 25,
      "outputs": []
    },
    {
      "cell_type": "markdown",
      "source": [
        "Графiк 1"
      ],
      "metadata": {
        "id": "_NkRv40Mnv0P"
      }
    },
    {
      "cell_type": "code",
      "source": [
        "plt.figure(figsize=(15, 10))\n",
        "plt.scatter(data['year'], data['reviews'], c=data['user_rating'], cmap='viridis', s=data['user_rating']*10, alpha=0.7)\n",
        "plt.colorbar(label='Рейтинг користувачів')\n",
        "plt.title('Рейтинг відгуків за рік')\n",
        "plt.xlabel('Рік')\n",
        "plt.ylabel('Кількість відгуків')\n",
        "plt.show()"
      ],
      "metadata": {
        "colab": {
          "base_uri": "https://localhost:8080/",
          "height": 608
        },
        "id": "ilsMEIqjnnut",
        "outputId": "5b956d34-a605-4007-d5e3-e542385c7e23"
      },
      "execution_count": 28,
      "outputs": [
        {
          "output_type": "display_data",
          "data": {
            "text/plain": [
              "<Figure size 1500x1000 with 2 Axes>"
            ],
            "image/png": "[encoded data removed]"
          },
          "metadata": {}
        }
      ]
    },
    {
      "cell_type": "markdown",
      "source": [
        "Графік 2"
      ],
      "metadata": {
        "id": "7aAbRXadoXqt"
      }
    },
    {
      "cell_type": "code",
      "source": [
        "plt.figure(figsize=(10, 6))\n",
        "plt.boxplot([data[data['genre'] == genre]['user_rating'] for genre in data['genre'].unique()],\n",
        "            labels=data['genre'].unique(), patch_artist=True)\n",
        "plt.title('Розподіл рейтингу за жанром')\n",
        "plt.xlabel('Жанр')\n",
        "plt.ylabel('Рейтинг користувачів')\n",
        "plt.show()"
      ],
      "metadata": {
        "colab": {
          "base_uri": "https://localhost:8080/",
          "height": 584
        },
        "id": "orsGd5EvoZz0",
        "outputId": "668e0ef8-0c4d-4bce-a764-f8f49b9f1e16"
      },
      "execution_count": 29,
      "outputs": [
        {
          "output_type": "display_data",
          "data": {
            "text/plain": [
              "<Figure size 1000x600 with 1 Axes>"
            ],
            "image/png": "[encoded data removed]"
          },
          "metadata": {}
        }
      ]
    },
    {
      "cell_type": "markdown",
      "source": [
        "Графік 3"
      ],
      "metadata": {
        "id": "7IGPxsZjtMpX"
      }
    },
    {
      "cell_type": "code",
      "source": [
        "genre_counts = data['genre'].value_counts()\n",
        "plt.figure(figsize=(10, 6))\n",
        "genre_counts.plot(kind='bar', color='skyblue')\n",
        "plt.title('Кількість книг за жанром')\n",
        "plt.xlabel('Жанр')\n",
        "plt.ylabel('Кількість книг')\n",
        "plt.show()"
      ],
      "metadata": {
        "colab": {
          "base_uri": "https://localhost:8080/",
          "height": 598
        },
        "id": "OVUgFNF-tOEx",
        "outputId": "58523702-0d93-4a62-cd1a-e3cdaf47bc36"
      },
      "execution_count": 30,
      "outputs": [
        {
          "output_type": "display_data",
          "data": {
            "text/plain": [
              "<Figure size 1000x600 with 1 Axes>"
            ],
            "image/png": "[encoded data removed]"
          },
          "metadata": {}
        }
      ]
    }
  ]
}